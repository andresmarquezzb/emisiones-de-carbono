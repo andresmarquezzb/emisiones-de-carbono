{
 "cells": [
  {
   "cell_type": "markdown",
   "id": "e3178ef0",
   "metadata": {},
   "source": [
    "**Este análisis busca evaluar las tendencias de emisiones de gases de efecto invernadero (GEI) por país y sector entre 2000 y 2023. El enfoque estará en:**\n",
    "\n",
    "- Identificar los países más emisores.\n",
    "- Observar cambios a lo largo del tiempo.\n",
    "- Comparar niveles de emisiones antes y después de políticas climáticas clave.\n",
    "- Producir visualizaciones que faciliten la comprensión de estos datos."
   ]
  },
  {
   "cell_type": "code",
   "execution_count": 54,
   "id": "f37e5473",
   "metadata": {},
   "outputs": [
    {
     "name": "stdout",
     "output_type": "stream",
     "text": [
      "c:\\Python313\\python.exe\n",
      "Defaulting to user installation because normal site-packages is not writeable\n",
      "Requirement already satisfied: xlrd in c:\\users\\rac-bellabfes\\appdata\\roaming\\python\\python313\\site-packages (2.0.1)\n"
     ]
    },
    {
     "name": "stderr",
     "output_type": "stream",
     "text": [
      "\n",
      "[notice] A new release of pip is available: 24.3.1 -> 25.0.1\n",
      "[notice] To update, run: python.exe -m pip install --upgrade pip\n"
     ]
    },
    {
     "name": "stdout",
     "output_type": "stream",
     "text": [
      "Defaulting to user installation because normal site-packages is not writeable\n",
      "Requirement already satisfied: openpyxl in c:\\users\\rac-bellabfes\\appdata\\roaming\\python\\python313\\site-packages (3.1.5)\n",
      "Requirement already satisfied: et-xmlfile in c:\\users\\rac-bellabfes\\appdata\\roaming\\python\\python313\\site-packages (from openpyxl) (2.0.0)\n"
     ]
    },
    {
     "name": "stderr",
     "output_type": "stream",
     "text": [
      "\n",
      "[notice] A new release of pip is available: 24.3.1 -> 25.0.1\n",
      "[notice] To update, run: python.exe -m pip install --upgrade pip\n"
     ]
    },
    {
     "name": "stdout",
     "output_type": "stream",
     "text": [
      "Defaulting to user installation because normal site-packages is not writeable\n",
      "Requirement already satisfied: pandas in c:\\users\\rac-bellabfes\\appdata\\roaming\\python\\python313\\site-packages (2.2.3)\n",
      "Requirement already satisfied: numpy>=1.26.0 in c:\\users\\rac-bellabfes\\appdata\\roaming\\python\\python313\\site-packages (from pandas) (2.2.5)\n",
      "Requirement already satisfied: python-dateutil>=2.8.2 in c:\\users\\rac-bellabfes\\appdata\\roaming\\python\\python313\\site-packages (from pandas) (2.9.0.post0)\n",
      "Requirement already satisfied: pytz>=2020.1 in c:\\users\\rac-bellabfes\\appdata\\roaming\\python\\python313\\site-packages (from pandas) (2025.2)\n",
      "Requirement already satisfied: tzdata>=2022.7 in c:\\users\\rac-bellabfes\\appdata\\roaming\\python\\python313\\site-packages (from pandas) (2025.2)\n",
      "Requirement already satisfied: six>=1.5 in c:\\users\\rac-bellabfes\\appdata\\roaming\\python\\python313\\site-packages (from python-dateutil>=2.8.2->pandas) (1.17.0)\n"
     ]
    },
    {
     "name": "stderr",
     "output_type": "stream",
     "text": [
      "\n",
      "[notice] A new release of pip is available: 24.3.1 -> 25.0.1\n",
      "[notice] To update, run: python.exe -m pip install --upgrade pip\n"
     ]
    },
    {
     "name": "stdout",
     "output_type": "stream",
     "text": [
      "Defaulting to user installation because normal site-packages is not writeable\n",
      "Requirement already satisfied: matplotlib in c:\\users\\rac-bellabfes\\appdata\\roaming\\python\\python313\\site-packages (3.10.1)\n",
      "Requirement already satisfied: seaborn in c:\\users\\rac-bellabfes\\appdata\\roaming\\python\\python313\\site-packages (0.13.2)\n",
      "Requirement already satisfied: contourpy>=1.0.1 in c:\\users\\rac-bellabfes\\appdata\\roaming\\python\\python313\\site-packages (from matplotlib) (1.3.2)\n",
      "Requirement already satisfied: cycler>=0.10 in c:\\users\\rac-bellabfes\\appdata\\roaming\\python\\python313\\site-packages (from matplotlib) (0.12.1)\n",
      "Requirement already satisfied: fonttools>=4.22.0 in c:\\users\\rac-bellabfes\\appdata\\roaming\\python\\python313\\site-packages (from matplotlib) (4.57.0)\n",
      "Requirement already satisfied: kiwisolver>=1.3.1 in c:\\users\\rac-bellabfes\\appdata\\roaming\\python\\python313\\site-packages (from matplotlib) (1.4.8)\n",
      "Requirement already satisfied: numpy>=1.23 in c:\\users\\rac-bellabfes\\appdata\\roaming\\python\\python313\\site-packages (from matplotlib) (2.2.5)\n",
      "Requirement already satisfied: packaging>=20.0 in c:\\users\\rac-bellabfes\\appdata\\roaming\\python\\python313\\site-packages (from matplotlib) (25.0)\n",
      "Requirement already satisfied: pillow>=8 in c:\\users\\rac-bellabfes\\appdata\\roaming\\python\\python313\\site-packages (from matplotlib) (11.2.1)\n",
      "Requirement already satisfied: pyparsing>=2.3.1 in c:\\users\\rac-bellabfes\\appdata\\roaming\\python\\python313\\site-packages (from matplotlib) (3.2.3)\n",
      "Requirement already satisfied: python-dateutil>=2.7 in c:\\users\\rac-bellabfes\\appdata\\roaming\\python\\python313\\site-packages (from matplotlib) (2.9.0.post0)\n",
      "Requirement already satisfied: pandas>=1.2 in c:\\users\\rac-bellabfes\\appdata\\roaming\\python\\python313\\site-packages (from seaborn) (2.2.3)\n",
      "Requirement already satisfied: pytz>=2020.1 in c:\\users\\rac-bellabfes\\appdata\\roaming\\python\\python313\\site-packages (from pandas>=1.2->seaborn) (2025.2)\n",
      "Requirement already satisfied: tzdata>=2022.7 in c:\\users\\rac-bellabfes\\appdata\\roaming\\python\\python313\\site-packages (from pandas>=1.2->seaborn) (2025.2)\n",
      "Requirement already satisfied: six>=1.5 in c:\\users\\rac-bellabfes\\appdata\\roaming\\python\\python313\\site-packages (from python-dateutil>=2.7->matplotlib) (1.17.0)\n",
      "2.0.1\n"
     ]
    },
    {
     "name": "stderr",
     "output_type": "stream",
     "text": [
      "\n",
      "[notice] A new release of pip is available: 24.3.1 -> 25.0.1\n",
      "[notice] To update, run: python.exe -m pip install --upgrade pip\n"
     ]
    }
   ],
   "source": [
    "## Instalar e Importar librerias\n",
    "import sys\n",
    "print(sys.executable)\n",
    "!pip install xlrd\n",
    "!pip install openpyxl\n",
    "!pip install pandas\n",
    "!pip install matplotlib seaborn\n",
    "import xlrd\n",
    "print(xlrd.__version__)\n",
    "import pandas as pd\n",
    "import numpy as np\n",
    "import matplotlib.pyplot as plt\n",
    "import seaborn as sns"
   ]
  },
  {
   "cell_type": "code",
   "execution_count": 25,
   "id": "516adcc1",
   "metadata": {},
   "outputs": [
    {
     "name": "stdout",
     "output_type": "stream",
     "text": [
      "OWID\n"
     ]
    }
   ],
   "source": [
    "# Emisiones anuales CO por Región\n",
    "\n",
    "anual_co_emissions_region = pd.read_csv(\"C:/Users/RAC-BELLABFES/Desktop/Proyecto Final/annual-co-emissions-by-region.csv\")\n",
    "print(\"OWID\")"
   ]
  },
  {
   "cell_type": "code",
   "execution_count": 28,
   "id": "214bd471",
   "metadata": {},
   "outputs": [
    {
     "name": "stdout",
     "output_type": "stream",
     "text": [
      "Our World in Data (OWID)\n"
     ]
    }
   ],
   "source": [
    "# OWID - Emisiones globales\n",
    "\n",
    "greenhouse = pd.read_csv(\"greenhouse-gas-emissions.csv\")\n",
    "print(\"Our World in Data (OWID)\")"
   ]
  },
  {
   "cell_type": "code",
   "execution_count": 26,
   "id": "febeb12f",
   "metadata": {},
   "outputs": [
    {
     "data": {
      "text/plain": [
       "Index(['Entity', 'Code', 'Year', 'Annual CO₂ emissions',\n",
       "       'Annual CO₂ emissions.1'],\n",
       "      dtype='object')"
      ]
     },
     "execution_count": 26,
     "metadata": {},
     "output_type": "execute_result"
    }
   ],
   "source": [
    "anual_co_emissions_region.columns"
   ]
  },
  {
   "cell_type": "code",
   "execution_count": 29,
   "id": "1c81b974",
   "metadata": {},
   "outputs": [
    {
     "data": {
      "text/plain": [
       "Index(['Entity', 'Year', 'Annual greenhouse gas emissions in CO₂ equivalents'], dtype='object')"
      ]
     },
     "execution_count": 29,
     "metadata": {},
     "output_type": "execute_result"
    }
   ],
   "source": [
    "greenhouse.columns"
   ]
  },
  {
   "cell_type": "code",
   "execution_count": 30,
   "id": "fd53e7e3",
   "metadata": {},
   "outputs": [],
   "source": [
    "anual_co_emissions_region = anual_co_emissions_region.drop(columns=['Annual CO₂ emissions.1'])\n",
    "# Eliminamos valores nulos\n",
    "anual_co_emissions_region = anual_co_emissions_region.dropna(subset=['Annual CO₂ emissions'])\n",
    "# Revisar datos\n",
    "anual_co_emissions_region = anual_co_emissions_region.dropna(subset=['Year'])\n",
    "anual_co_emissions_region['Year'] = anual_co_emissions_region['Year'].astype(int)"
   ]
  },
  {
   "cell_type": "code",
   "execution_count": 31,
   "id": "abe3ef37",
   "metadata": {},
   "outputs": [
    {
     "data": {
      "text/html": [
       "<div>\n",
       "<style scoped>\n",
       "    .dataframe tbody tr th:only-of-type {\n",
       "        vertical-align: middle;\n",
       "    }\n",
       "\n",
       "    .dataframe tbody tr th {\n",
       "        vertical-align: top;\n",
       "    }\n",
       "\n",
       "    .dataframe thead th {\n",
       "        text-align: right;\n",
       "    }\n",
       "</style>\n",
       "<table border=\"1\" class=\"dataframe\">\n",
       "  <thead>\n",
       "    <tr style=\"text-align: right;\">\n",
       "      <th></th>\n",
       "      <th>Entity</th>\n",
       "      <th>Code</th>\n",
       "      <th>Year</th>\n",
       "      <th>Annual CO₂ emissions</th>\n",
       "    </tr>\n",
       "  </thead>\n",
       "  <tbody>\n",
       "    <tr>\n",
       "      <th>0</th>\n",
       "      <td>Africa</td>\n",
       "      <td>NaN</td>\n",
       "      <td>1884</td>\n",
       "      <td>2.198400e+04</td>\n",
       "    </tr>\n",
       "    <tr>\n",
       "      <th>1</th>\n",
       "      <td>Africa</td>\n",
       "      <td>NaN</td>\n",
       "      <td>1885</td>\n",
       "      <td>3.664000e+04</td>\n",
       "    </tr>\n",
       "    <tr>\n",
       "      <th>2</th>\n",
       "      <td>Africa</td>\n",
       "      <td>NaN</td>\n",
       "      <td>1886</td>\n",
       "      <td>4.763200e+04</td>\n",
       "    </tr>\n",
       "    <tr>\n",
       "      <th>3</th>\n",
       "      <td>Africa</td>\n",
       "      <td>NaN</td>\n",
       "      <td>1887</td>\n",
       "      <td>4.763200e+04</td>\n",
       "    </tr>\n",
       "    <tr>\n",
       "      <th>4</th>\n",
       "      <td>Africa</td>\n",
       "      <td>NaN</td>\n",
       "      <td>1888</td>\n",
       "      <td>8.060800e+04</td>\n",
       "    </tr>\n",
       "    <tr>\n",
       "      <th>...</th>\n",
       "      <td>...</td>\n",
       "      <td>...</td>\n",
       "      <td>...</td>\n",
       "      <td>...</td>\n",
       "    </tr>\n",
       "    <tr>\n",
       "      <th>2263</th>\n",
       "      <td>United States</td>\n",
       "      <td>USA</td>\n",
       "      <td>2019</td>\n",
       "      <td>5.262145e+09</td>\n",
       "    </tr>\n",
       "    <tr>\n",
       "      <th>2264</th>\n",
       "      <td>United States</td>\n",
       "      <td>USA</td>\n",
       "      <td>2020</td>\n",
       "      <td>4.714628e+09</td>\n",
       "    </tr>\n",
       "    <tr>\n",
       "      <th>2265</th>\n",
       "      <td>United States</td>\n",
       "      <td>USA</td>\n",
       "      <td>2021</td>\n",
       "      <td>5.032213e+09</td>\n",
       "    </tr>\n",
       "    <tr>\n",
       "      <th>2266</th>\n",
       "      <td>United States</td>\n",
       "      <td>USA</td>\n",
       "      <td>2022</td>\n",
       "      <td>5.078871e+09</td>\n",
       "    </tr>\n",
       "    <tr>\n",
       "      <th>2267</th>\n",
       "      <td>United States</td>\n",
       "      <td>USA</td>\n",
       "      <td>2023</td>\n",
       "      <td>4.911391e+09</td>\n",
       "    </tr>\n",
       "  </tbody>\n",
       "</table>\n",
       "<p>2257 rows × 4 columns</p>\n",
       "</div>"
      ],
      "text/plain": [
       "             Entity Code  Year  Annual CO₂ emissions\n",
       "0            Africa  NaN  1884          2.198400e+04\n",
       "1            Africa  NaN  1885          3.664000e+04\n",
       "2            Africa  NaN  1886          4.763200e+04\n",
       "3            Africa  NaN  1887          4.763200e+04\n",
       "4            Africa  NaN  1888          8.060800e+04\n",
       "...             ...  ...   ...                   ...\n",
       "2263  United States  USA  2019          5.262145e+09\n",
       "2264  United States  USA  2020          4.714628e+09\n",
       "2265  United States  USA  2021          5.032213e+09\n",
       "2266  United States  USA  2022          5.078871e+09\n",
       "2267  United States  USA  2023          4.911391e+09\n",
       "\n",
       "[2257 rows x 4 columns]"
      ]
     },
     "execution_count": 31,
     "metadata": {},
     "output_type": "execute_result"
    }
   ],
   "source": [
    "anual_co_emissions_region"
   ]
  },
  {
   "cell_type": "code",
   "execution_count": 32,
   "id": "ca25dbd3",
   "metadata": {},
   "outputs": [
    {
     "data": {
      "text/html": [
       "<div>\n",
       "<style scoped>\n",
       "    .dataframe tbody tr th:only-of-type {\n",
       "        vertical-align: middle;\n",
       "    }\n",
       "\n",
       "    .dataframe tbody tr th {\n",
       "        vertical-align: top;\n",
       "    }\n",
       "\n",
       "    .dataframe thead th {\n",
       "        text-align: right;\n",
       "    }\n",
       "</style>\n",
       "<table border=\"1\" class=\"dataframe\">\n",
       "  <thead>\n",
       "    <tr style=\"text-align: right;\">\n",
       "      <th></th>\n",
       "      <th>Entity</th>\n",
       "      <th>Year</th>\n",
       "      <th>Annual greenhouse gas emissions in CO₂ equivalents</th>\n",
       "    </tr>\n",
       "  </thead>\n",
       "  <tbody>\n",
       "    <tr>\n",
       "      <th>0</th>\n",
       "      <td>Afghanistan</td>\n",
       "      <td>1850</td>\n",
       "      <td>7435743.5</td>\n",
       "    </tr>\n",
       "    <tr>\n",
       "      <th>1</th>\n",
       "      <td>Afghanistan</td>\n",
       "      <td>1851</td>\n",
       "      <td>7499858.5</td>\n",
       "    </tr>\n",
       "    <tr>\n",
       "      <th>2</th>\n",
       "      <td>Afghanistan</td>\n",
       "      <td>1852</td>\n",
       "      <td>7560495.5</td>\n",
       "    </tr>\n",
       "    <tr>\n",
       "      <th>3</th>\n",
       "      <td>Afghanistan</td>\n",
       "      <td>1853</td>\n",
       "      <td>7619898.0</td>\n",
       "    </tr>\n",
       "    <tr>\n",
       "      <th>4</th>\n",
       "      <td>Afghanistan</td>\n",
       "      <td>1854</td>\n",
       "      <td>7678120.0</td>\n",
       "    </tr>\n",
       "    <tr>\n",
       "      <th>...</th>\n",
       "      <td>...</td>\n",
       "      <td>...</td>\n",
       "      <td>...</td>\n",
       "    </tr>\n",
       "    <tr>\n",
       "      <th>37405</th>\n",
       "      <td>Zimbabwe</td>\n",
       "      <td>2019</td>\n",
       "      <td>34347856.0</td>\n",
       "    </tr>\n",
       "    <tr>\n",
       "      <th>37406</th>\n",
       "      <td>Zimbabwe</td>\n",
       "      <td>2020</td>\n",
       "      <td>31322906.0</td>\n",
       "    </tr>\n",
       "    <tr>\n",
       "      <th>37407</th>\n",
       "      <td>Zimbabwe</td>\n",
       "      <td>2021</td>\n",
       "      <td>33549390.0</td>\n",
       "    </tr>\n",
       "    <tr>\n",
       "      <th>37408</th>\n",
       "      <td>Zimbabwe</td>\n",
       "      <td>2022</td>\n",
       "      <td>33772416.0</td>\n",
       "    </tr>\n",
       "    <tr>\n",
       "      <th>37409</th>\n",
       "      <td>Zimbabwe</td>\n",
       "      <td>2023</td>\n",
       "      <td>33955148.0</td>\n",
       "    </tr>\n",
       "  </tbody>\n",
       "</table>\n",
       "<p>37410 rows × 3 columns</p>\n",
       "</div>"
      ],
      "text/plain": [
       "            Entity  Year  Annual greenhouse gas emissions in CO₂ equivalents\n",
       "0      Afghanistan  1850                                          7435743.5 \n",
       "1      Afghanistan  1851                                          7499858.5 \n",
       "2      Afghanistan  1852                                          7560495.5 \n",
       "3      Afghanistan  1853                                          7619898.0 \n",
       "4      Afghanistan  1854                                          7678120.0 \n",
       "...            ...   ...                                                ... \n",
       "37405     Zimbabwe  2019                                         34347856.0 \n",
       "37406     Zimbabwe  2020                                         31322906.0 \n",
       "37407     Zimbabwe  2021                                         33549390.0 \n",
       "37408     Zimbabwe  2022                                         33772416.0 \n",
       "37409     Zimbabwe  2023                                         33955148.0 \n",
       "\n",
       "[37410 rows x 3 columns]"
      ]
     },
     "execution_count": 32,
     "metadata": {},
     "output_type": "execute_result"
    }
   ],
   "source": [
    "greenhouse"
   ]
  },
  {
   "cell_type": "code",
   "execution_count": 56,
   "id": "44046445",
   "metadata": {},
   "outputs": [
    {
     "name": "stdout",
     "output_type": "stream",
     "text": [
      "<class 'pandas.core.frame.DataFrame'>\n"
     ]
    }
   ],
   "source": [
    "print(type(anual_co_emissions_region))"
   ]
  },
  {
   "cell_type": "code",
   "execution_count": 33,
   "id": "3662c95d",
   "metadata": {},
   "outputs": [],
   "source": [
    "# Convertir año a numérico si no lo está\n",
    "greenhouse['Year'] = pd.to_numeric(greenhouse['Year'], errors='coerce')\n",
    "\n",
    "# Eliminar nulos\n",
    "greenhouse = greenhouse.dropna(subset=['Annual greenhouse gas emissions in CO₂ equivalents'])"
   ]
  },
  {
   "cell_type": "code",
   "execution_count": 67,
   "id": "82dbd037",
   "metadata": {},
   "outputs": [
    {
     "name": "stdout",
     "output_type": "stream",
     "text": [
      "Años en anual co emissiones region: 2000 - 2023\n",
      "Años en greenhouse: 2000 - 2023\n"
     ]
    }
   ],
   "source": [
    "# Filtrar para quedarnos solo con datos desde el año 2000\n",
    "anual_co = anual_co_emissions_region[anual_co_emissions_region['Year'] >= 2000]\n",
    "greenhouse_ = greenhouse[greenhouse['Year'] >= 2000]\n",
    "# Verificación\n",
    "print(\"Años en anual co emissiones region:\",anual_co_emissions_region['Year'].min(), \"-\", anual_co_emissions_region['Year'].max())\n",
    "print(\"Años en greenhouse:\", greenhouse['Year'].min(), \"-\", greenhouse['Year'].max())"
   ]
  },
  {
   "cell_type": "code",
   "execution_count": 40,
   "id": "d652bcf4",
   "metadata": {},
   "outputs": [
    {
     "data": {
      "text/html": [
       "<div>\n",
       "<style scoped>\n",
       "    .dataframe tbody tr th:only-of-type {\n",
       "        vertical-align: middle;\n",
       "    }\n",
       "\n",
       "    .dataframe tbody tr th {\n",
       "        vertical-align: top;\n",
       "    }\n",
       "\n",
       "    .dataframe thead th {\n",
       "        text-align: right;\n",
       "    }\n",
       "</style>\n",
       "<table border=\"1\" class=\"dataframe\">\n",
       "  <thead>\n",
       "    <tr style=\"text-align: right;\">\n",
       "      <th></th>\n",
       "      <th>Entity</th>\n",
       "      <th>Code</th>\n",
       "      <th>Year</th>\n",
       "      <th>Annual CO₂ emissions</th>\n",
       "    </tr>\n",
       "  </thead>\n",
       "  <tbody>\n",
       "    <tr>\n",
       "      <th>116</th>\n",
       "      <td>Africa</td>\n",
       "      <td>NaN</td>\n",
       "      <td>2000</td>\n",
       "      <td>9.308508e+08</td>\n",
       "    </tr>\n",
       "    <tr>\n",
       "      <th>117</th>\n",
       "      <td>Africa</td>\n",
       "      <td>NaN</td>\n",
       "      <td>2001</td>\n",
       "      <td>9.206018e+08</td>\n",
       "    </tr>\n",
       "    <tr>\n",
       "      <th>118</th>\n",
       "      <td>Africa</td>\n",
       "      <td>NaN</td>\n",
       "      <td>2002</td>\n",
       "      <td>8.999958e+08</td>\n",
       "    </tr>\n",
       "    <tr>\n",
       "      <th>119</th>\n",
       "      <td>Africa</td>\n",
       "      <td>NaN</td>\n",
       "      <td>2003</td>\n",
       "      <td>9.896446e+08</td>\n",
       "    </tr>\n",
       "    <tr>\n",
       "      <th>120</th>\n",
       "      <td>Africa</td>\n",
       "      <td>NaN</td>\n",
       "      <td>2004</td>\n",
       "      <td>1.045726e+09</td>\n",
       "    </tr>\n",
       "    <tr>\n",
       "      <th>...</th>\n",
       "      <td>...</td>\n",
       "      <td>...</td>\n",
       "      <td>...</td>\n",
       "      <td>...</td>\n",
       "    </tr>\n",
       "    <tr>\n",
       "      <th>2263</th>\n",
       "      <td>United States</td>\n",
       "      <td>USA</td>\n",
       "      <td>2019</td>\n",
       "      <td>5.262145e+09</td>\n",
       "    </tr>\n",
       "    <tr>\n",
       "      <th>2264</th>\n",
       "      <td>United States</td>\n",
       "      <td>USA</td>\n",
       "      <td>2020</td>\n",
       "      <td>4.714628e+09</td>\n",
       "    </tr>\n",
       "    <tr>\n",
       "      <th>2265</th>\n",
       "      <td>United States</td>\n",
       "      <td>USA</td>\n",
       "      <td>2021</td>\n",
       "      <td>5.032213e+09</td>\n",
       "    </tr>\n",
       "    <tr>\n",
       "      <th>2266</th>\n",
       "      <td>United States</td>\n",
       "      <td>USA</td>\n",
       "      <td>2022</td>\n",
       "      <td>5.078871e+09</td>\n",
       "    </tr>\n",
       "    <tr>\n",
       "      <th>2267</th>\n",
       "      <td>United States</td>\n",
       "      <td>USA</td>\n",
       "      <td>2023</td>\n",
       "      <td>4.911391e+09</td>\n",
       "    </tr>\n",
       "  </tbody>\n",
       "</table>\n",
       "<p>288 rows × 4 columns</p>\n",
       "</div>"
      ],
      "text/plain": [
       "             Entity Code  Year  Annual CO₂ emissions\n",
       "116          Africa  NaN  2000          9.308508e+08\n",
       "117          Africa  NaN  2001          9.206018e+08\n",
       "118          Africa  NaN  2002          8.999958e+08\n",
       "119          Africa  NaN  2003          9.896446e+08\n",
       "120          Africa  NaN  2004          1.045726e+09\n",
       "...             ...  ...   ...                   ...\n",
       "2263  United States  USA  2019          5.262145e+09\n",
       "2264  United States  USA  2020          4.714628e+09\n",
       "2265  United States  USA  2021          5.032213e+09\n",
       "2266  United States  USA  2022          5.078871e+09\n",
       "2267  United States  USA  2023          4.911391e+09\n",
       "\n",
       "[288 rows x 4 columns]"
      ]
     },
     "execution_count": 40,
     "metadata": {},
     "output_type": "execute_result"
    }
   ],
   "source": [
    "anual_co"
   ]
  },
  {
   "cell_type": "code",
   "execution_count": 41,
   "id": "bc7e9f7f",
   "metadata": {},
   "outputs": [
    {
     "data": {
      "text/html": [
       "<div>\n",
       "<style scoped>\n",
       "    .dataframe tbody tr th:only-of-type {\n",
       "        vertical-align: middle;\n",
       "    }\n",
       "\n",
       "    .dataframe tbody tr th {\n",
       "        vertical-align: top;\n",
       "    }\n",
       "\n",
       "    .dataframe thead th {\n",
       "        text-align: right;\n",
       "    }\n",
       "</style>\n",
       "<table border=\"1\" class=\"dataframe\">\n",
       "  <thead>\n",
       "    <tr style=\"text-align: right;\">\n",
       "      <th></th>\n",
       "      <th>Entity</th>\n",
       "      <th>Year</th>\n",
       "      <th>Annual greenhouse gas emissions in CO₂ equivalents</th>\n",
       "    </tr>\n",
       "  </thead>\n",
       "  <tbody>\n",
       "    <tr>\n",
       "      <th>150</th>\n",
       "      <td>Afghanistan</td>\n",
       "      <td>2000</td>\n",
       "      <td>16954712.0</td>\n",
       "    </tr>\n",
       "    <tr>\n",
       "      <th>151</th>\n",
       "      <td>Afghanistan</td>\n",
       "      <td>2001</td>\n",
       "      <td>15772437.0</td>\n",
       "    </tr>\n",
       "    <tr>\n",
       "      <th>152</th>\n",
       "      <td>Afghanistan</td>\n",
       "      <td>2002</td>\n",
       "      <td>20735294.0</td>\n",
       "    </tr>\n",
       "    <tr>\n",
       "      <th>153</th>\n",
       "      <td>Afghanistan</td>\n",
       "      <td>2003</td>\n",
       "      <td>21422782.0</td>\n",
       "    </tr>\n",
       "    <tr>\n",
       "      <th>154</th>\n",
       "      <td>Afghanistan</td>\n",
       "      <td>2004</td>\n",
       "      <td>20056680.0</td>\n",
       "    </tr>\n",
       "    <tr>\n",
       "      <th>...</th>\n",
       "      <td>...</td>\n",
       "      <td>...</td>\n",
       "      <td>...</td>\n",
       "    </tr>\n",
       "    <tr>\n",
       "      <th>37405</th>\n",
       "      <td>Zimbabwe</td>\n",
       "      <td>2019</td>\n",
       "      <td>34347856.0</td>\n",
       "    </tr>\n",
       "    <tr>\n",
       "      <th>37406</th>\n",
       "      <td>Zimbabwe</td>\n",
       "      <td>2020</td>\n",
       "      <td>31322906.0</td>\n",
       "    </tr>\n",
       "    <tr>\n",
       "      <th>37407</th>\n",
       "      <td>Zimbabwe</td>\n",
       "      <td>2021</td>\n",
       "      <td>33549390.0</td>\n",
       "    </tr>\n",
       "    <tr>\n",
       "      <th>37408</th>\n",
       "      <td>Zimbabwe</td>\n",
       "      <td>2022</td>\n",
       "      <td>33772416.0</td>\n",
       "    </tr>\n",
       "    <tr>\n",
       "      <th>37409</th>\n",
       "      <td>Zimbabwe</td>\n",
       "      <td>2023</td>\n",
       "      <td>33955148.0</td>\n",
       "    </tr>\n",
       "  </tbody>\n",
       "</table>\n",
       "<p>5160 rows × 3 columns</p>\n",
       "</div>"
      ],
      "text/plain": [
       "            Entity  Year  Annual greenhouse gas emissions in CO₂ equivalents\n",
       "150    Afghanistan  2000                                         16954712.0 \n",
       "151    Afghanistan  2001                                         15772437.0 \n",
       "152    Afghanistan  2002                                         20735294.0 \n",
       "153    Afghanistan  2003                                         21422782.0 \n",
       "154    Afghanistan  2004                                         20056680.0 \n",
       "...            ...   ...                                                ... \n",
       "37405     Zimbabwe  2019                                         34347856.0 \n",
       "37406     Zimbabwe  2020                                         31322906.0 \n",
       "37407     Zimbabwe  2021                                         33549390.0 \n",
       "37408     Zimbabwe  2022                                         33772416.0 \n",
       "37409     Zimbabwe  2023                                         33955148.0 \n",
       "\n",
       "[5160 rows x 3 columns]"
      ]
     },
     "execution_count": 41,
     "metadata": {},
     "output_type": "execute_result"
    }
   ],
   "source": [
    "greenhouse_"
   ]
  },
  {
   "cell_type": "code",
   "execution_count": 70,
   "id": "3272b41f",
   "metadata": {},
   "outputs": [
    {
     "name": "stdout",
     "output_type": "stream",
     "text": [
      "Total países/regiones en anual_co_paises: 12\n",
      "['Africa' 'Asia (excl. China and India)' 'China' 'Europe (excl. EU-27)'\n",
      " 'European Union (27)' 'India' 'International aviation'\n",
      " 'International shipping' 'North America (excl. USA)' 'Oceania'\n",
      " 'South America' 'United States']\n"
     ]
    }
   ],
   "source": [
    "anual_co_paises = anual_co['Entity'].unique()\n",
    "print(f\"Total países/regiones en anual_co_paises: {len(anual_co_paises)}\")\n",
    "print(anual_co_paises)"
   ]
  },
  {
   "cell_type": "code",
   "execution_count": 71,
   "id": "5c5e30e9",
   "metadata": {},
   "outputs": [
    {
     "name": "stdout",
     "output_type": "stream",
     "text": [
      "Total países/regiones en owid_data: 215\n",
      "['Afghanistan' 'Africa' 'Albania' 'Algeria' 'Andorra' 'Angola'\n",
      " 'Antigua and Barbuda' 'Argentina' 'Armenia' 'Asia'\n",
      " 'Asia (excl. China and India)' 'Australia' 'Austria' 'Azerbaijan'\n",
      " 'Bahamas' 'Bahrain' 'Bangladesh' 'Barbados' 'Belarus' 'Belgium' 'Belize'\n",
      " 'Benin' 'Bhutan' 'Bolivia' 'Bosnia and Herzegovina' 'Botswana' 'Brazil'\n",
      " 'Brunei' 'Bulgaria' 'Burkina Faso' 'Burundi' 'Cambodia' 'Cameroon'\n",
      " 'Canada' 'Cape Verde' 'Central African Republic' 'Chad' 'Chile' 'China'\n",
      " 'Colombia' 'Comoros' 'Congo' 'Cook Islands' 'Costa Rica' \"Cote d'Ivoire\"\n",
      " 'Croatia' 'Cuba' 'Cyprus' 'Czechia' 'Democratic Republic of Congo'\n",
      " 'Denmark' 'Djibouti' 'Dominica' 'Dominican Republic' 'East Timor'\n",
      " 'Ecuador' 'Egypt' 'El Salvador' 'Equatorial Guinea' 'Eritrea' 'Estonia'\n",
      " 'Eswatini' 'Ethiopia' 'Europe' 'Europe (excl. EU-27)'\n",
      " 'Europe (excl. EU-28)' 'European Union (27)' 'European Union (28)' 'Fiji'\n",
      " 'Finland' 'France' 'Gabon' 'Gambia' 'Georgia' 'Germany' 'Ghana' 'Greece'\n",
      " 'Grenada' 'Guatemala' 'Guinea' 'Guinea-Bissau' 'Guyana' 'Haiti'\n",
      " 'High-income countries' 'Honduras' 'Hong Kong' 'Hungary' 'Iceland'\n",
      " 'India' 'Indonesia' 'Iran' 'Iraq' 'Ireland' 'Israel' 'Italy' 'Jamaica'\n",
      " 'Japan' 'Jordan' 'Kazakhstan' 'Kenya' 'Kiribati' 'Kuwait' 'Kyrgyzstan'\n",
      " 'Laos' 'Latvia' 'Least developed countries (Jones et al.)' 'Lebanon'\n",
      " 'Lesotho' 'Liberia' 'Libya' 'Liechtenstein' 'Lithuania'\n",
      " 'Low-income countries' 'Lower-middle-income countries' 'Luxembourg'\n",
      " 'Macao' 'Madagascar' 'Malawi' 'Malaysia' 'Maldives' 'Mali' 'Malta'\n",
      " 'Mauritania' 'Mauritius' 'Mexico' 'Micronesia (country)' 'Moldova'\n",
      " 'Mongolia' 'Montenegro' 'Morocco' 'Mozambique' 'Myanmar' 'Namibia'\n",
      " 'Nauru' 'Nepal' 'Netherlands' 'New Zealand' 'Nicaragua' 'Niger' 'Nigeria'\n",
      " 'Niue' 'North America' 'North America (excl. USA)' 'North Korea'\n",
      " 'North Macedonia' 'Norway' 'OECD (Jones et al.)' 'Oceania' 'Oman'\n",
      " 'Pakistan' 'Palau' 'Panama' 'Papua New Guinea' 'Paraguay' 'Peru'\n",
      " 'Philippines' 'Poland' 'Portugal' 'Qatar' 'Romania' 'Russia' 'Rwanda'\n",
      " 'Saint Kitts and Nevis' 'Saint Lucia' 'Saint Vincent and the Grenadines'\n",
      " 'Samoa' 'Sao Tome and Principe' 'Saudi Arabia' 'Senegal' 'Serbia'\n",
      " 'Seychelles' 'Sierra Leone' 'Singapore' 'Slovakia' 'Slovenia'\n",
      " 'Solomon Islands' 'Somalia' 'South Africa' 'South America' 'South Korea'\n",
      " 'South Sudan' 'Spain' 'Sri Lanka' 'Sudan' 'Suriname' 'Sweden'\n",
      " 'Switzerland' 'Syria' 'Taiwan' 'Tajikistan' 'Tanzania' 'Thailand' 'Togo'\n",
      " 'Tonga' 'Trinidad and Tobago' 'Tunisia' 'Turkey' 'Turkmenistan'\n",
      " 'Turks and Caicos Islands' 'Tuvalu' 'Uganda' 'Ukraine'\n",
      " 'United Arab Emirates' 'United Kingdom' 'United States'\n",
      " 'Upper-middle-income countries' 'Uruguay' 'Uzbekistan' 'Vanuatu'\n",
      " 'Venezuela' 'Vietnam' 'World' 'Yemen' 'Zambia' 'Zimbabwe']\n"
     ]
    }
   ],
   "source": [
    "greenhouse_paises = greenhouse_['Entity'].unique()\n",
    "print(f\"Total países/regiones en owid_data: {len(greenhouse_paises)}\")\n",
    "print(greenhouse_paises)"
   ]
  },
  {
   "cell_type": "code",
   "execution_count": 77,
   "id": "0021e7b5",
   "metadata": {},
   "outputs": [
    {
     "name": "stderr",
     "output_type": "stream",
     "text": [
      "C:\\Users\\RAC-BELLABFES\\AppData\\Local\\Temp\\ipykernel_3644\\3854541833.py:10: FutureWarning: \n",
      "\n",
      "Passing `palette` without assigning `hue` is deprecated and will be removed in v0.14.0. Assign the `y` variable to `hue` and set `legend=False` for the same effect.\n",
      "\n",
      "  sns.barplot(y=top_anual_co.index, x=top_anual_co.values, palette=\"Reds_r\")\n"
     ]
    },
    {
     "data": {
      "image/png": "[encoded data removed]",
      "text/plain": [
       "<Figure size 1000x600 with 1 Axes>"
      ]
     },
     "metadata": {},
     "output_type": "display_data"
    }
   ],
   "source": [
    "top_anual_co = (\n",
    "    anual_co.groupby('Entity')['Annual CO₂ emissions']\n",
    "    .sum()\n",
    "    .sort_values(ascending=False)\n",
    "    .head(10)\n",
    ")\n",
    "\n",
    "# Graficar utilizando el índice y los valores de la Serie top_anual_co\n",
    "plt.figure(figsize=(10, 6))\n",
    "sns.barplot(y=top_anual_co.index, x=top_anual_co.values, palette=\"Reds_r\")\n",
    "plt.title('Top 10 Bloques/Regiones Emisores de GEI (2000–2023)', fontsize=14)\n",
    "plt.xlabel('Emisiones acumuladas (toneladas de CO₂ equivalente)')\n",
    "plt.ylabel('País')\n",
    "plt.tight_layout()\n",
    "plt.show()"
   ]
  },
  {
   "cell_type": "code",
   "execution_count": 79,
   "id": "b5b5a068",
   "metadata": {},
   "outputs": [
    {
     "name": "stdout",
     "output_type": "stream",
     "text": [
      "Defaulting to user installation because normal site-packages is not writeable\n",
      "Collecting pycountry\n",
      "  Downloading pycountry-24.6.1-py3-none-any.whl.metadata (12 kB)\n",
      "Downloading pycountry-24.6.1-py3-none-any.whl (6.3 MB)\n",
      "   ---------------------------------------- 0.0/6.3 MB ? eta -:--:--\n",
      "   -------------------------------------- - 6.0/6.3 MB 36.3 MB/s eta 0:00:01\n",
      "   ---------------------------------------- 6.3/6.3 MB 34.2 MB/s eta 0:00:00\n",
      "Installing collected packages: pycountry\n",
      "Successfully installed pycountry-24.6.1\n"
     ]
    },
    {
     "name": "stderr",
     "output_type": "stream",
     "text": [
      "\n",
      "[notice] A new release of pip is available: 24.3.1 -> 25.0.1\n",
      "[notice] To update, run: python.exe -m pip install --upgrade pip\n"
     ]
    }
   ],
   "source": [
    "!pip install pycountry"
   ]
  },
  {
   "cell_type": "code",
   "execution_count": 81,
   "id": "4d9f6ece",
   "metadata": {},
   "outputs": [],
   "source": [
    "import pycountry\n",
    "\n",
    "# Crear una lista de nombres de países reales reconocidos por pycountry\n",
    "paises_reales = [country.name for country in pycountry.countries]\n",
    "\n",
    "# En algunos casos pycountry tiene nombres diferentes (por ejemplo, \"Côte d'Ivoire\" vs \"Ivory Coast\")\n",
    "# Podemos complementar con algunos nombres adicionales manualmente si es necesario\n",
    "extras = ['Czechia', 'Democratic Republic of Congo', 'Micronesia (country)', 'North Macedonia']\n",
    "paises_reales += extras\n",
    "\n",
    "# Filtrar el DataFrame para conservar solo países reales\n",
    "greenhouse_ = greenhouse_[greenhouse_['Entity'].isin(paises_reales)]"
   ]
  },
  {
   "cell_type": "code",
   "execution_count": 84,
   "id": "380ac979",
   "metadata": {},
   "outputs": [
    {
     "name": "stderr",
     "output_type": "stream",
     "text": [
      "C:\\Users\\RAC-BELLABFES\\AppData\\Local\\Temp\\ipykernel_3644\\1585487129.py:10: FutureWarning: \n",
      "\n",
      "Passing `palette` without assigning `hue` is deprecated and will be removed in v0.14.0. Assign the `y` variable to `hue` and set `legend=False` for the same effect.\n",
      "\n",
      "  sns.barplot(y=top_greeenhouse.index, x=top_greeenhouse.values, palette=\"Blues_r\")\n"
     ]
    },
    {
     "data": {
      "image/png": "[encoded data removed]",
      "text/plain": [
       "<Figure size 1000x600 with 1 Axes>"
      ]
     },
     "metadata": {},
     "output_type": "display_data"
    }
   ],
   "source": [
    "top_greeenhouse = (\n",
    "    greenhouse_.groupby('Entity')['Annual greenhouse gas emissions in CO₂ equivalents']\n",
    "    .sum()\n",
    "    .sort_values(ascending=False)\n",
    "    .head(10)\n",
    ")\n",
    "\n",
    "# Gráfico utilizando el índice y los valores de la Serie top_greeenhouse\n",
    "plt.figure(figsize=(10, 6))\n",
    "sns.barplot(y=top_greeenhouse.index, x=top_greeenhouse.values, palette=\"Blues_r\")\n",
    "plt.title('Top 10 Países Emisores de CO₂ (2000–2023)', fontsize=14)\n",
    "plt.xlabel('Emisiones acumuladas (toneladas de CO₂)')\n",
    "plt.ylabel('País')\n",
    "plt.tight_layout()\n",
    "plt.show()"
   ]
  },
  {
   "cell_type": "code",
   "execution_count": 85,
   "id": "351ef167",
   "metadata": {},
   "outputs": [],
   "source": [
    "top10 = (\n",
    "    greenhouse_.groupby('Entity')['Annual greenhouse gas emissions in CO₂ equivalents']\n",
    "    .sum()\n",
    "    .sort_values(ascending=False)\n",
    "    .head(10)\n",
    "    .index.tolist()\n",
    ")"
   ]
  },
  {
   "cell_type": "code",
   "execution_count": 86,
   "id": "c944a036",
   "metadata": {},
   "outputs": [],
   "source": [
    "comparacion = greenhouse_[\n",
    "    (greenhouse_['Entity'].isin(top10)) & \n",
    "    (greenhouse_['Year'].isin([2000, 2023]))\n",
    "]"
   ]
  },
  {
   "cell_type": "code",
   "execution_count": 87,
   "id": "5d68bcb8",
   "metadata": {},
   "outputs": [],
   "source": [
    "# Ordenar los datos por las emisiones anuales en orden descendente\n",
    "comparacion_ordenada = comparacion.sort_values(by='Annual greenhouse gas emissions in CO₂ equivalents', ascending=False)"
   ]
  },
  {
   "cell_type": "code",
   "execution_count": 88,
   "id": "215dc831",
   "metadata": {},
   "outputs": [
    {
     "data": {
      "image/png": "[encoded data removed]",
      "text/plain": [
       "<Figure size 1200x600 with 1 Axes>"
      ]
     },
     "metadata": {},
     "output_type": "display_data"
    }
   ],
   "source": [
    "plt.figure(figsize=(12,6))\n",
    "sns.barplot(\n",
    "    data=comparacion_ordenada,\n",
    "    x='Entity',\n",
    "    y='Annual greenhouse gas emissions in CO₂ equivalents',\n",
    "    hue='Year',\n",
    "    palette='Set2'\n",
    ")\n",
    "plt.title('Comparación de Emisiones de CO₂ (2000 vs. 2023) - Top 10 Países')\n",
    "plt.ylabel('Emisiones (toneladas de CO₂)')\n",
    "plt.xlabel('País')\n",
    "plt.xticks(rotation=45)\n",
    "plt.tight_layout()\n",
    "plt.show()"
   ]
  }
 ],
 "metadata": {
  "kernelspec": {
   "display_name": "Python 3",
   "language": "python",
   "name": "python3"
  },
  "language_info": {
   "codemirror_mode": {
    "name": "ipython",
    "version": 3
   },
   "file_extension": ".py",
   "mimetype": "text/x-python",
   "name": "python",
   "nbconvert_exporter": "python",
   "pygments_lexer": "ipython3",
   "version": "3.13.2"
  }
 },
 "nbformat": 4,
 "nbformat_minor": 5
}
